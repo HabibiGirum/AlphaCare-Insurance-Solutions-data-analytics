{
 "cells": [
  {
   "cell_type": "markdown",
   "metadata": {},
   "source": [
    "# import necessary python libraries to perform my tasks"
   ]
  },
  {
   "cell_type": "code",
   "execution_count": null,
   "metadata": {},
   "outputs": [],
   "source": [
    "import pandas as pd\n",
    "import numpy as np\n",
    "import seaborn as sns                       #visualisation\n",
    "import matplotlib.pyplot as plt             #visualisation\n",
    "%matplotlib inline     \n",
    "sns.set(color_codes=True)"
   ]
  },
  {
   "cell_type": "code",
   "execution_count": null,
   "metadata": {},
   "outputs": [],
   "source": [
    "# Step 1: Read the TXT file (pipe-delimited)\n",
    "df_txt = pd.read_csv('../Data/MachineLearningRating_v3.txt', sep='|', header=0)\n",
    "\n",
    "# Step 2: Save as a CSV file\n",
    "df_txt.to_csv('dataset.csv', index=False)"
   ]
  },
  {
   "cell_type": "code",
   "execution_count": null,
   "metadata": {},
   "outputs": [],
   "source": [
    "\n",
    "\n",
    "import sys\n",
    "import os\n",
    "sys.path.append(os.path.abspath(os.path.join('..')))"
   ]
  },
  {
   "cell_type": "code",
   "execution_count": null,
   "metadata": {},
   "outputs": [],
   "source": [
    "# Step 3: Read and Parse the CSV File\n",
    "df = pd.read_csv('../notebooks/dataset.csv')\n"
   ]
  },
  {
   "cell_type": "code",
   "execution_count": null,
   "metadata": {},
   "outputs": [],
   "source": [
    "print(df.columns.tolist())"
   ]
  },
  {
   "cell_type": "markdown",
   "metadata": {},
   "source": [
    "# TASK -1  EDA"
   ]
  },
  {
   "cell_type": "code",
   "execution_count": null,
   "metadata": {},
   "outputs": [],
   "source": [
    "from scripts.task_1 import EDA\n",
    "\n",
    "# Instantiate the EDA class\n",
    "eda = EDA(df)\n",
    "\n",
    "# Run all methods\n",
    "eda.data_summary()  # Summary of the data\n",
    "eda.data_quality_assessment()  # Check for missing values\n",
    "eda.univariate_analysis()  # Univariate analysis: histograms and count plots\n",
    "eda.bivariate_analysis()  # Bivariate analysis: correlation matrix and scatter plot\n",
    "# eda.data_comparison()  # Data comparison: boxplots and trends\n",
    "eda.outlier_detection()  # Outlier detection: box plots\n",
    "eda.creative_visualizations()  # Creative plots capturing key insights"
   ]
  },
  {
   "cell_type": "code",
   "execution_count": null,
   "metadata": {},
   "outputs": [],
   "source": [
    "from scripts.task_3 import ABHypothesisTesting\n",
    "\n",
    "\n",
    "# Example Usage\n",
    "# Load Dataset\n",
    "data = pd.read_csv('../notebooks/dataset.csv')\n",
    "\n",
    "# Task 3: A/B Hypothesis Testing\n",
    "ab_test = ABHypothesisTesting(data)\n",
    "province_a, province_b = ab_test.create_ab_groups('Province', 'Province1', 'Province2')\n",
    "stat, p_value = ab_test.perform_t_test(province_a, province_b, 'TotalClaims')\n",
    "if p_value < 0.05:\n",
    "    print(\"Reject Null Hypothesis: Significant risk difference across provinces.\")\n",
    "else:\n",
    "    print(\"Fail to Reject Null Hypothesis: No significant risk difference across provinces.\")\n",
    "\n",
    "\n"
   ]
  },
  {
   "cell_type": "code",
   "execution_count": null,
   "metadata": {},
   "outputs": [],
   "source": []
  }
 ],
 "metadata": {
  "kernelspec": {
   "display_name": "env",
   "language": "python",
   "name": "python3"
  },
  "language_info": {
   "codemirror_mode": {
    "name": "ipython",
    "version": 3
   },
   "file_extension": ".py",
   "mimetype": "text/x-python",
   "name": "python",
   "nbconvert_exporter": "python",
   "pygments_lexer": "ipython3",
   "version": "3.11.8"
  }
 },
 "nbformat": 4,
 "nbformat_minor": 2
}
